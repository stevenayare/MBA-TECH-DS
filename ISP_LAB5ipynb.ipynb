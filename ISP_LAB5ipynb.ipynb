{
  "nbformat": 4,
  "nbformat_minor": 0,
  "metadata": {
    "colab": {
      "provenance": [],
      "collapsed_sections": []
    },
    "kernelspec": {
      "name": "python3",
      "display_name": "Python 3"
    },
    "language_info": {
      "name": "python"
    }
  },
  "cells": [
    {
      "cell_type": "markdown",
      "source": [
        "*** VIGENERE CIPHER***"
      ],
      "metadata": {
        "id": "C1UwAiLHttGR"
      }
    },
    {
      "cell_type": "markdown",
      "source": [
        "**GENERATING KEY**"
      ],
      "metadata": {
        "id": "qos2-zYotyKT"
      }
    },
    {
      "cell_type": "code",
      "execution_count": null,
      "metadata": {
        "colab": {
          "base_uri": "https://localhost:8080/",
          "height": 36
        },
        "id": "BcBP_XpWpGkw",
        "outputId": "4f55fda9-d5d7-4ede-8cae-457c6f7648fb"
      },
      "outputs": [
        {
          "output_type": "execute_result",
          "data": {
            "text/plain": [
              "'MAYURMAYURMAY'"
            ],
            "application/vnd.google.colaboratory.intrinsic+json": {
              "type": "string"
            }
          },
          "metadata": {},
          "execution_count": 25
        }
      ],
      "source": [
        "pt = \"GEEKSFORGEEKS\"\n",
        "keyword = \"MAYUR\"\n",
        "def gk(string,key):\n",
        "  key = list(key)\n",
        "  if len(key) == len(string):\n",
        "    return key\n",
        "  else:\n",
        "    for i in range(len(string)-len(key)):\n",
        "      key.append(key[i%len(key)])\n",
        "  return \"\".join(key)\n",
        "\n",
        "gk(pt,keyword)      "
      ]
    },
    {
      "cell_type": "markdown",
      "source": [
        "**ENCRYPTION**"
      ],
      "metadata": {
        "id": "vuwhY4wBt2PS"
      }
    },
    {
      "cell_type": "code",
      "source": [
        "def en(pt,key):\n",
        "  ct = []\n",
        "  for i in range(len(pt)):\n",
        "    x = (ord(pt[i])+ord(key[i]))%26 + 65\n",
        "    ct.append(chr(x))\n",
        "  return \"\".join(ct)\n",
        "\n",
        "print(\"OG TEXT: GEEKSFORGEEKS\")\n",
        "print(\"KEYWORD: \",gk(pt,keyword))\n",
        "keyword = gk(pt,keyword) #  GENERATING THE KEYWORD OF PROPER LENGTH \n",
        "print(\"CIPHER TEXT \",en(pt,keyword))"
      ],
      "metadata": {
        "colab": {
          "base_uri": "https://localhost:8080/"
        },
        "id": "eKS9guhRrxZr",
        "outputId": "713b39b0-16b5-48be-82de-afcee03ae7ed"
      },
      "execution_count": null,
      "outputs": [
        {
          "output_type": "stream",
          "name": "stdout",
          "text": [
            "OG TEXT: GEEKSFORGEEKS\n",
            "KEYWORD:  MAYURMAYURMAY\n",
            "CIPHER TEXT  SECEJROPAVQKQ\n"
          ]
        }
      ]
    },
    {
      "cell_type": "markdown",
      "source": [
        "**DECRYPTION**\n",
        "\n",
        " "
      ],
      "metadata": {
        "id": "uVBJ6Lg9v46L"
      }
    },
    {
      "cell_type": "code",
      "source": [
        "def dec(ct,key):\n",
        "  pt = []\n",
        "  for i in range(len(ct)):\n",
        "    \n",
        "    y = (ord(ct[i])-ord(key[i]))%26 + 65\n",
        "    pt.append(chr(y))\n",
        "  return \"\".join(pt)  \n",
        "\n",
        "print(\"CIPHER TEXT \", en(pt,keyword))\n",
        "print(\"OG KEY \",gk(pt,keyword))\n",
        "ct = \"SECEJROPAVQKQ\"\n",
        "\n",
        "print(\"PLAIN TEXT \",dec(ct,keyword))    "
      ],
      "metadata": {
        "colab": {
          "base_uri": "https://localhost:8080/"
        },
        "id": "mzQSwCGmv_3c",
        "outputId": "bbbf765b-3dc2-410f-dd74-5f6c146edbe4"
      },
      "execution_count": null,
      "outputs": [
        {
          "output_type": "stream",
          "name": "stdout",
          "text": [
            "CIPHER TEXT  SECEJROPAVQKQ\n",
            "OG KEY  ['M', 'A', 'Y', 'U', 'R', 'M', 'A', 'Y', 'U', 'R', 'M', 'A', 'Y']\n",
            "PLAIN TEXT  GEEKSFORGEEKS\n"
          ]
        }
      ]
    },
    {
      "cell_type": "code",
      "source": [],
      "metadata": {
        "id": "cdKDx5_Oz_XW"
      },
      "execution_count": null,
      "outputs": []
    }
  ]
}