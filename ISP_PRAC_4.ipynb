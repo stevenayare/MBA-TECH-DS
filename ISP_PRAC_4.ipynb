{
  "nbformat": 4,
  "nbformat_minor": 0,
  "metadata": {
    "colab": {
      "provenance": []
    },
    "kernelspec": {
      "name": "python3",
      "display_name": "Python 3"
    },
    "language_info": {
      "name": "python"
    }
  },
  "cells": [
    {
      "cell_type": "code",
      "execution_count": 1,
      "metadata": {
        "colab": {
          "base_uri": "https://localhost:8080/"
        },
        "id": "UCA8l8xaPfxk",
        "outputId": "106ae3a3-2d94-458e-c4a7-9c1d887a42ae"
      },
      "outputs": [
        {
          "output_type": "stream",
          "name": "stdout",
          "text": [
            "['A', 'T', 'T', 'A', 'C', 'K', ' ', 'A', 'T', ' ', 'D', 'A', 'W', 'N']\n",
            "Keyword after removing duplicate ['S', 't', 'a', 'r', ' ', 'W']\n",
            "Encrypting text is:  ['S', 't', 'a', 'r', ' ', 'W', 'A', 'B', 'C', 'D', 'E', 'F', 'G', 'H', 'I', 'J', 'K', 'L', 'M', 'N', 'O', 'P', 'Q', 'R', 'T', 'U', 'V', 'X', 'Y', 'Z']\n",
            "Star War\n",
            "Attack at dawn\n",
            "SOOSaF SO rSRI\n"
          ]
        }
      ],
      "source": [
        " \n",
        "message=\"Attack at dawn\" \n",
        "keyword=\"Star War\"\n",
        "ciphertext=\"\" \n",
        "all_alphabets=[]\n",
        "for i in range(65,91):\n",
        "  all_alphabets.append(chr(i))\n",
        "msg=[]\n",
        "for i in message:\n",
        "  msg.append(i.upper())\n",
        "print(msg)\n",
        "keyword1=keyword.upper()\n",
        "def duplicates(list):\n",
        "  key=[]\n",
        "  for i in list:\n",
        "    if i not in key:\n",
        "      key.append(i)\n",
        "  return key\n",
        "keyword1=duplicates(keyword)\n",
        "print(\"Keyword after removing duplicate\", keyword1)\n",
        "encrypting=duplicates(keyword1+all_alphabets)\n",
        "print(\"Encrypting text is: \" , encrypting)\n",
        "for i in encrypting:\n",
        "  if(i==' '):\n",
        "    encrypting.remove(' ')\n",
        "for i in range(len(msg)):\n",
        "  if(msg[i]!=' '):\n",
        "    ciphertext=ciphertext+encrypting[all_alphabets.index(msg[i])]\n",
        "  else:\n",
        "    ciphertext=ciphertext+' ' \n",
        "print(keyword)\n",
        "print(message)\n",
        "print(ciphertext)"
      ]
    },
    {
      "cell_type": "code",
      "source": [],
      "metadata": {
        "id": "B9nGw50OPxPB"
      },
      "execution_count": null,
      "outputs": []
    }
  ]
}