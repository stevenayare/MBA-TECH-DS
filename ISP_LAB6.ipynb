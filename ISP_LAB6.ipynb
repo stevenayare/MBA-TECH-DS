{
  "nbformat": 4,
  "nbformat_minor": 0,
  "metadata": {
    "colab": {
      "provenance": [],
      "collapsed_sections": []
    },
    "kernelspec": {
      "name": "python3",
      "display_name": "Python 3"
    },
    "language_info": {
      "name": "python"
    }
  },
  "cells": [
    {
      "cell_type": "code",
      "execution_count": null,
      "metadata": {
        "id": "cp5v7R6j2S-G"
      },
      "outputs": [],
      "source": []
    },
    {
      "cell_type": "markdown",
      "source": [
        "**DIFFIE-HELLMAN KEY EXCHANGE**"
      ],
      "metadata": {
        "id": "ukPLjOyy2d6C"
      }
    },
    {
      "cell_type": "code",
      "source": [
        "print(\"Both parties agree to a single prime \")\n",
        "prime =  int(input(\"Enter the prime number to be considered: \"))\n",
        "#Primitive root to be used use\n",
        "print(\"Both must agree with single primitive root to use \")\n",
        "root = int(input(\"Enter the primitive root: \"))\n"
      ],
      "metadata": {
        "colab": {
          "base_uri": "https://localhost:8080/"
        },
        "id": "5KpQYCKu35Nq",
        "outputId": "0822054f-d597-43c9-af2d-67d84fbf647b"
      },
      "execution_count": null,
      "outputs": [
        {
          "name": "stdout",
          "output_type": "stream",
          "text": [
            "Both parties agree to a single prime \n",
            "Enter the prime number to be considered: 31\n",
            "Both must agree with single primitive root to use \n",
            "Enter the primitive root: 11\n"
          ]
        }
      ]
    },
    {
      "cell_type": "code",
      "source": [
        "# Party1 chooses a secret number\n",
        "alicesecret = int(input(\"Enter a secret number for Party1: \"))\n",
        "\n",
        "# Party2 chooses a secret number\n",
        "\n",
        "bobsecret = int(input(\"Enter a secret number for Party2:  \"))\n",
        "print(\"\\n\")"
      ],
      "metadata": {
        "colab": {
          "base_uri": "https://localhost:8080/"
        },
        "id": "ew9iPL0V4bRa",
        "outputId": "cd5b2107-52d6-4d26-9efb-3db91e74ce65"
      },
      "execution_count": null,
      "outputs": [
        {
          "output_type": "stream",
          "name": "stdout",
          "text": [
            "Enter a secret number for Party1: 98\n",
            "Enter a secret number for Party2:  60\n",
            "\n",
            "\n"
          ]
        }
      ]
    },
    {
      "cell_type": "code",
      "source": [
        "#Party1 public key B = (root^alicesecret)*mod(prime)\n",
        "print(\"Party1's public key-> A = root^alicesecret*mod(prime)\")\n",
        "alicepublic = (root**alicesecret)%prime\n",
        "print(\"Party1 public key is: \", alicepublic,\"\\n\")\n",
        "\n",
        "#Party2 public key B = (root^bobsecret)*mod(prime)\n",
        "print(\"Party2's public key-> A = root^bobsecret*mod(prime)\")\n",
        "alicepublic = (root**bobsecret)%prime\n",
        "print(\"Party2 public key is: \", bobpublic,\"\\n\")\n"
      ],
      "metadata": {
        "id": "gS57mWrW6aOg"
      },
      "execution_count": null,
      "outputs": []
    },
    {
      "cell_type": "code",
      "source": [
        "#Party1 now calculates the shared key k:\n",
        "# K = B^(alicesecret)*mod(prime)\n",
        "print(\"Party1 calculates the shared key as K=B^alicesecret*(mod(prime))\")\n",
        "alicekey = (bobpublic**alicesecret)%prime\n",
        "print(\"Party1 calculates the shared key and results \")"
      ],
      "metadata": {
        "id": "vbbup_OU8Hvt"
      },
      "execution_count": null,
      "outputs": []
    }
  ]
}