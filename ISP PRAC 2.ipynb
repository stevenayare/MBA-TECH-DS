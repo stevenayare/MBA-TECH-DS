{
 "cells": [
  {
   "cell_type": "code",
   "execution_count": null,
   "id": "a8b66961",
   "metadata": {},
   "outputs": [],
   "source": [
    "pt = \"vedina\"                        # VERMAN CYPHER ENCRYPTION\n",
    "key = str(input(\"ENTER THE STRING \"))\n",
    "ct = \"\"\n",
    "pt = pt.replace(\" \",\"\")  # FOR GAPS\n",
    "pt = pt.lower()          # FOR LOWERCASE\n",
    "key = key.replace(\" \",\"\")\n",
    "key = key.lower()\n",
    "\n",
    "if(len(pt) != len(key)):\n",
    "     print(\"DIFFERENT LENGTH \")\n",
    "else:\n",
    "            print(\"SAME LENGTH \")\n",
    "        \n",
    "\n",
    "for x in range(len(pt)):\n",
    "        k1 = ord(pt[x])-97  # TO GET NUMERICAL VALUE OUT OF 26\n",
    "        k2 = ord(key[x]) - 97   \n",
    "        s = chr((k1+k2)%26+97) # TO GET ASCII VALUE WHILE USING MODULO AND USING Chr function which returns character for ascii \n",
    "        ct += s \n",
    "        \n",
    "print(\"OUTPUT: \",ct)"
   ]
  },
  {
   "cell_type": "code",
   "execution_count": null,
   "id": "c0afa2f3",
   "metadata": {},
   "outputs": [],
   "source": [
    "pt = \"qigqao\"                      # VERMAN CYPHER DECRYPTION\n",
    "key = str(input(\"ENTER THE KEY \"))\n",
    "ct = \"\"\n",
    "\n",
    "pt = pt.replace(\" \",\"\")\n",
    "pt = pt.lower()\n",
    "key = key.replace(\" \",\"\")\n",
    "key = key.lower()\n",
    "\n",
    "if(len(pt)!=len(key)):\n",
    "    print(\"DIFFERENT LENGTHS\")\n",
    "    abort()\n",
    "else:\n",
    "    print(\"SAME LENGTH\")\n",
    "\n",
    "    \n",
    "for x in range(len(key)): \n",
    "    k1 =  ord(pt[x])-97\n",
    "    k2 =  ord(key[x])-97\n",
    "    r = chr((k1-k2)%26+97)\n",
    "    ct += r\n",
    "\n",
    "print(\"OUTPUT: \",ct) "
   ]
  }
 ],
 "metadata": {
  "kernelspec": {
   "display_name": "Python 3 (ipykernel)",
   "language": "python",
   "name": "python3"
  },
  "language_info": {
   "codemirror_mode": {
    "name": "ipython",
    "version": 3
   },
   "file_extension": ".py",
   "mimetype": "text/x-python",
   "name": "python",
   "nbconvert_exporter": "python",
   "pygments_lexer": "ipython3",
   "version": "3.9.12"
  }
 },
 "nbformat": 4,
 "nbformat_minor": 5
}
